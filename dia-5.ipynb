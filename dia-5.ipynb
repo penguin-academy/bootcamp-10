{
 "cells": [
  {
   "cell_type": "markdown",
   "metadata": {},
   "source": [
    "## OOP y Clases"
   ]
  },
  {
   "cell_type": "code",
   "execution_count": 9,
   "metadata": {},
   "outputs": [
    {
     "name": "stdout",
     "output_type": "stream",
     "text": [
      "Rompe \n",
      "Paco rojo\n"
     ]
    }
   ],
   "source": [
    "class Mascota:\n",
    "    ojos = 2 # Atributos de clase\n",
    "\n",
    "    def __init__(self, nombre, color):\n",
    "        # Atributos de instancia\n",
    "        self.nombre = nombre \n",
    "        self.color = color\n",
    "\n",
    "\n",
    "mi_mascota = Mascota(\"Rompe\", \"\")\n",
    "mi_otra_mascota = Mascota(\"Paco\", \"rojo\")\n",
    "\n",
    "print(mi_mascota.nombre, mi_mascota.color)\n",
    "print(mi_otra_mascota.nombre, mi_otra_mascota.color)"
   ]
  },
  {
   "cell_type": "markdown",
   "metadata": {},
   "source": [
    "## Challenge 🤺\n",
    "\n",
    "Crear dos class de animales que tengan atributos de clase y de instancia.\n",
    "\n",
    "- Atributos de clase: `especie`.\n",
    "- Atributos de instancia: `nombre` & `color`.\n",
    "Luego, crear nuevos objetos a partir de las nuevas class. Imprimir el nombre y el color de los animales en una frase que diga: \"Me llamo Alex y soy un ave de color blanco\"."
   ]
  },
  {
   "cell_type": "markdown",
   "metadata": {},
   "source": [
    "## Solución de David 🦇"
   ]
  },
  {
   "cell_type": "code",
   "execution_count": 11,
   "metadata": {},
   "outputs": [
    {
     "name": "stdout",
     "output_type": "stream",
     "text": [
      "hola me llamo alex y soy un ave de color blanco\n",
      "hola me llamo eren y soy un roedor de color green ,peso cincuenta kilosy mido 1,70 metros\n"
     ]
    }
   ],
   "source": [
    "class Carpintero:\n",
    "    especie = \"ave\"\n",
    "\n",
    "    def __init__(self, nombre, color):\n",
    "        self.nombre=nombre\n",
    "        self.color=color\n",
    "        \n",
    "mi_especie= Carpintero(\"alex\", \"blanco\" )\n",
    "print(\"hola me llamo \" + mi_especie.nombre + \" y soy un ave de color \"+  mi_especie.color)\n",
    "\n",
    "class Huron:\n",
    "    especie = \"roedor\"\n",
    "    def __init__(self, nombre, color, peso, altura): # argumento \n",
    "        self.nombre=nombre\n",
    "        self.color=color\n",
    "        self.peso=peso\n",
    "        self.altura=altura\n",
    "mi_especie= Huron(\"eren\", \"green\", \"cincuenta kilos\", \"1,70 metros\")\n",
    "print(\"hola me llamo \" + mi_especie.nombre + \" y soy un roedor de color \"+  mi_especie.color + \" ,peso \" + mi_especie.peso + \"y mido \" + mi_especie.altura)"
   ]
  },
  {
   "cell_type": "markdown",
   "metadata": {},
   "source": [
    "## Solución de Carlos 🚗🌞"
   ]
  },
  {
   "cell_type": "code",
   "execution_count": 13,
   "metadata": {},
   "outputs": [
    {
     "name": "stdout",
     "output_type": "stream",
     "text": [
      "Me llamo Dona y soy un Ave de color marron\n",
      "Me llamo Luna y soy un Ave de color negro\n",
      "   \n",
      "\"Espacio separador...\"\n",
      "   \n",
      "Me llamo Kai y soy un Can de color marron\n",
      "Me llamo Dan y soy un Can de color negro\n"
     ]
    }
   ],
   "source": [
    "class Animal:\n",
    "    especie = \"Ave\" # Atributo de clase\n",
    "\n",
    "    def __init__(self, nombre, color):\n",
    "        # Atributos de instancia\n",
    "        self.nombre = nombre\n",
    "        self.color = color\n",
    "\n",
    "animal1 = Animal(\"Dona\", \"marron\")\n",
    "animal2 = Animal(\"Luna\", \"negro\")\n",
    "\n",
    "print(\"Me llamo\",animal1.nombre,\"y soy un\",animal1.especie,\"de color\",animal1.color)\n",
    "print(\"Me llamo\",animal2.nombre,\"y soy un\",animal2.especie,\"de color\",animal2.color)\n",
    "\n",
    "print(\"   \")\n",
    "print('\"Espacio separador...\"')\n",
    "print(\"   \")\n",
    "\n",
    "class Mamifero:\n",
    "    subespecie = \"Can\"\n",
    "\n",
    "    def __init__(self, nombre, color):\n",
    "        self.nombre = nombre\n",
    "        self.color = color\n",
    "\n",
    "animal3 = Mamifero(\"Kai\", \"marron\")\n",
    "animal4 = Mamifero(\"Dan\", \"negro\")\n",
    "\n",
    "print(\"Me llamo\",animal3.nombre,\"y soy un\",animal3.subespecie,\"de color\",animal3.color)\n",
    "print(\"Me llamo\",animal4.nombre,\"y soy un\",animal4.subespecie,\"de color\",animal4.color)"
   ]
  },
  {
   "cell_type": "markdown",
   "metadata": {},
   "source": [
    "## Definiendo métodos"
   ]
  },
  {
   "cell_type": "code",
   "execution_count": 32,
   "metadata": {},
   "outputs": [
    {
     "name": "stdout",
     "output_type": "stream",
     "text": [
      "um num num num 🍪 0.5kg luego\n",
      "um num num num 🍕 1kg luego\n",
      "Estoy caminando\n"
     ]
    }
   ],
   "source": [
    "class Mascota:\n",
    "    ojos = 2\n",
    "\n",
    "    def __init__(self, nombre): # Método constructor\n",
    "        self.nombre = nombre\n",
    "\n",
    "    def caminar(self):\n",
    "        print(\"Estoy caminando\")\n",
    "\n",
    "    def dormir(self):\n",
    "        print(\"zZZzZ\")\n",
    "\n",
    "    def comer(self, comida, kg_de_comida):\n",
    "        print(\"um num num num \" + comida + ' ' + str(kg_de_comida) + \"kg luego\")\n",
    "\n",
    "    \n",
    "mi_mascota = Mascota(\"pepe\")\n",
    "\n",
    "mi_mascota.comer(\"🍪\", 0.5)\n",
    "mi_mascota.comer(\"🍕\", 1)\n",
    "mi_mascota.caminar()\n"
   ]
  },
  {
   "cell_type": "markdown",
   "metadata": {},
   "source": [
    "## Challenge 🤺\n",
    "Crear dos métodos por animal, que sea hablar y moverse.\n",
    "\n",
    "En el método hablar, imprimir: \"Cuando hablo, digo X\". Ej.: \"Guau, guau, guau\".\n",
    "En el método mover, imprimir: \"Cuando me muevo, hago X\". Ej.: \"salero\"\n",
    "\n",
    "X debe ser algo específico de ese animal"
   ]
  },
  {
   "cell_type": "markdown",
   "metadata": {},
   "source": [
    "## Solución de Nikito 🍪🐒"
   ]
  },
  {
   "cell_type": "code",
   "execution_count": null,
   "metadata": {},
   "outputs": [],
   "source": [
    "class Aves:\n",
    "    especie = \"Aves\"\n",
    "    alas = \"2\"\n",
    "    def __init__(self,tamanho, color, nombre):\n",
    "        self.tamanho = tamanho #cm\n",
    "        self.color = color\n",
    "        self.nombre = nombre\n",
    "\n",
    "    def moverse(self,forma,velocidad):\n",
    "        print(f\"para moverme {forma}\")\n",
    "        print(f\"Me muevo a {velocidad} km por hora\")\n",
    "pinguino = Aves(1.10, \"Blanco, negro y amarillo\",\"Pinguino\")\n",
    "print(f\"Hola me llamo {pinguino.nombre}, y soy de color {pinguino.color}\")\n",
    "pinguino.moverse(\"nado\",\"19\")\n",
    "\n",
    "print(\"**\")\n",
    "print('\\n Espacio separador \\n')\n",
    "print(\"**\")\n",
    "\n",
    "class DinosaurioTiranosaurio:\n",
    "    estado = \"Extinto\"\n",
    "    especie = \"Tiranosaurio\"\n",
    "    def __init__(self, tamanho, nombre, color, que_come):\n",
    "        self.tamanho = tamanho\n",
    "        self.nombre = nombre\n",
    "        self.color = color\n",
    "        self.que_come = que_come\n",
    "    def moverse(self,forma,velocidad):\n",
    "        print(f\"para moverme {forma}\")\n",
    "        print(f\"Me muevo a {velocidad} km por hora\")\n",
    "\n",
    "\n",
    "mi_mascota = DinosaurioTiranosaurio(10, \"Danonino\", \"Verde\",\"Yogurth\")\n",
    "print(f\"Hola me llamo {mi_mascota.nombre}, soy un {mi_mascota.especie} y soy de color {mi_mascota.color}, y me encanta el: {mi_mascota.que_come}\")\n",
    "mi_mascota.moverse(\"corro\", \"17\") "
   ]
  },
  {
   "cell_type": "markdown",
   "metadata": {},
   "source": [
    "## Solución de Fabri 🧉\n"
   ]
  },
  {
   "cell_type": "code",
   "execution_count": 34,
   "metadata": {},
   "outputs": [
    {
     "name": "stdout",
     "output_type": "stream",
     "text": [
      "Cuando tomo 🧉 soy feliz\n",
      "cuando como pasto quiero dormir\n",
      "cuando duermo, hago zzZZzzz\n"
     ]
    }
   ],
   "source": [
    "class Carpincho:\n",
    "    Especie = \"roedor\" # Atributo de clase\n",
    "\n",
    "    def __init__(self, nombre, color, peso): \n",
    "        self.nombre = nombre\n",
    "        self.color = color \n",
    "        self.peso = peso\n",
    "\n",
    "    def tomar(self, bebida):\n",
    "        print(\"Cuando tomo \" + bebida + \" soy feliz\")\n",
    "\n",
    "    def comer(self, comida):\n",
    "        print(\"cuando como \" + comida + \" quiero dormir\")\n",
    "\n",
    "    def dormir(self):\n",
    "        print(\"cuando duermo, hago zzZZzzz\")\n",
    "\n",
    "mi_carpincho = Carpincho(\"Armin\", \"marron\", \"cincuenta y cinco kilos\")\n",
    "\n",
    "mi_carpincho.tomar(\"🧉\")\n",
    "mi_carpincho.comer(\"pasto\")\n",
    "mi_carpincho.dormir()\n",
    "\n"
   ]
  },
  {
   "cell_type": "markdown",
   "metadata": {},
   "source": [
    "## Herencia"
   ]
  },
  {
   "cell_type": "code",
   "execution_count": 35,
   "metadata": {},
   "outputs": [
    {
     "name": "stdout",
     "output_type": "stream",
     "text": [
      "Soy un animal del tipo Reptil\n",
      "🔥🔥🔥🔥\n"
     ]
    }
   ],
   "source": [
    "class Reptil:\n",
    "    tipo = \"Reptil\"\n",
    "\n",
    "    def __init__(self, color, sonido):\n",
    "        self.color = color\n",
    "        self.sonido = sonido\n",
    "\n",
    "\n",
    "    def hablar(self):\n",
    "        pass\n",
    "\n",
    "    def presentarse(self):\n",
    "        print(\"Soy un animal del tipo \" + self.tipo)\n",
    "\n",
    "class Serpiente(Reptil):\n",
    "    \n",
    "    def arrastrarse(self):\n",
    "        print(\"Me estoy arrastrando\")\n",
    "    \n",
    "class Dragon(Reptil):\n",
    "\n",
    "    def volar(self):\n",
    "        print(\"Estoy volando\")\n",
    "\n",
    "    def escupir_fuego(self):\n",
    "        print(\"🔥🔥🔥🔥\")\n",
    "\n",
    "mi_dragon = Dragon(\"rojo\", \"GRRAAAA\")\n",
    "\n",
    "mi_dragon.presentarse()\n",
    "mi_dragon.escupir_fuego()\n",
    "\n",
    "mi_serpiente = Serpiente(\"Verde\", \"ssSASASs\")\n",
    "\n",
    "mi_serpiente.arrastrarse()"
   ]
  },
  {
   "cell_type": "markdown",
   "metadata": {},
   "source": [
    "## Challenge 🤺\n",
    "Definir una clase madre que herede a sus clases hijas dos atributos de instancia. Mostrar ambos atributos en pantalla desde los objetos de las clases hijas."
   ]
  },
  {
   "cell_type": "markdown",
   "metadata": {},
   "source": [
    "## Solución de Melman 🦄"
   ]
  },
  {
   "cell_type": "code",
   "execution_count": 37,
   "metadata": {},
   "outputs": [
    {
     "name": "stdout",
     "output_type": "stream",
     "text": [
      "Ella es Maria, tiene ojos verdes y tuebe pelo castaño\n"
     ]
    }
   ],
   "source": [
    "class Madre:\n",
    "    def __init__(self, nombre, edad, ojos, pelo):\n",
    "        self.nombre = nombre\n",
    "        self.edad = edad\n",
    "        self.ojos = ojos\n",
    "        self.pelo = pelo\n",
    "\n",
    "class Hija(Madre):\n",
    "    pass\n",
    "\n",
    "hija1 = Hija(\"Maria\", 15, \"verdes\", \"castaño\")\n",
    "hija2 = Hija(\"Laura\", 20, \"negros\", \"pelirroja\")\n",
    "\n",
    "print(\"Ella es \" + hija1.nombre + \", tiene ojos \" + hija1.ojos + \" y tuebe pelo \" + hija1.pelo)"
   ]
  },
  {
   "cell_type": "markdown",
   "metadata": {},
   "source": [
    "## Solución de Andrew 🐱"
   ]
  },
  {
   "cell_type": "code",
   "execution_count": 38,
   "metadata": {},
   "outputs": [
    {
     "name": "stdout",
     "output_type": "stream",
     "text": [
      "eeve\n",
      "*sonidos de evolucion* Parece que Eeve quiere evolucionar!\n",
      "\n",
      "vrrrrrrrbrbrbbr\n",
      "Hola soy Vaporeon, soy de tipo agua y tengo ventaja contra pokemones del tipo tierra, roca y planta \n",
      "\n",
      "bbbbbbbbbbrrrrbrb\n",
      "Hola soy Umbreon, soy del tipo siniestro y tengo desventaja contra pokemones del tipo luchador, siniestro y acero\n",
      "\n"
     ]
    }
   ],
   "source": [
    "class Eevee:\n",
    "    especie = \"Pokemon\"\n",
    "\n",
    "    def __init__(self, tipo, sonido):\n",
    "        self.tipo = tipo\n",
    "        self.sonido = sonido\n",
    "\n",
    "    def hablar(self):\n",
    "        print(self.sonido)\n",
    "\n",
    "        \n",
    "class Vaporeon(Eevee):\n",
    "\n",
    "    def ventaja(self, ventaja):\n",
    "        print(f\"Hola soy Vaporeon, soy de tipo {self.tipo} y tengo ventaja contra pokemones del tipo {ventaja} \\n\")\n",
    "\n",
    "class Umbreon(Eevee):\n",
    "    \n",
    "    def desventaja(self, desventaja):\n",
    "        print(f\"Hola soy Umbreon, soy del tipo {self.tipo} y tengo desventaja contra pokemones del tipo {desventaja}\\n\")\n",
    "\n",
    "eeve = Eevee(\"normal\", \"eeve\")\n",
    "vaporeon = Vaporeon(\"agua\", \"vrrrrrrrbrbrbbr\")\n",
    "umbreon = Umbreon(\"siniestro\", \"bbbbbbbbbbrrrrbrb\")\n",
    "\n",
    "\n",
    "eeve.hablar()\n",
    "\n",
    "print(\"*sonidos de evolucion* Parece que Eeve quiere evolucionar!\\n\")\n",
    "\n",
    "vaporeon.hablar()\n",
    "vaporeon.ventaja(\"tierra, roca y planta\")\n",
    "\n",
    "umbreon.hablar()\n",
    "umbreon.desventaja(\"luchador, siniestro y acero\")"
   ]
  },
  {
   "cell_type": "markdown",
   "metadata": {},
   "source": [
    "## Espacio separador"
   ]
  },
  {
   "cell_type": "markdown",
   "metadata": {},
   "source": [
    "## Diccionarios"
   ]
  },
  {
   "cell_type": "code",
   "execution_count": 14,
   "metadata": {},
   "outputs": [
    {
     "name": "stdout",
     "output_type": "stream",
     "text": [
      "fernando@penguin.com Mellone\n",
      "fernando@penguin.academy\n",
      "{'nombre': 'Fernando', 'apellido': 'Mellone', 'email': 'fernando@penguin.academy', 'cabello': 'verde'}\n"
     ]
    }
   ],
   "source": [
    "mi_contacto = { \"nombre\": \"Fernando\", \"apellido\": \"Mellone\", \"email\": \"fernando@penguin.com\"}\n",
    "\n",
    "print(mi_contacto[\"email\"] + ' ' + mi_contacto[\"apellido\"])\n",
    "\n",
    "mi_contacto[\"email\"] = \"fernando@penguin.academy\"\n",
    "\n",
    "print(mi_contacto[\"email\"])\n",
    "\n",
    "mi_contacto[\"cabello\"] = \"verde\"\n",
    "\n",
    "print(mi_contacto)"
   ]
  },
  {
   "cell_type": "markdown",
   "metadata": {},
   "source": [
    "## Challenge 1 🤺\n",
    "Escribir un programa que cree un diccionario vacío y lo vaya llenado con información sobre una persona (por ejemplo nombre, edad, sexo, teléfono, correo electrónico, etc.) que se le pida al usuario. Cada vez que se añada un nuevo dato debe imprimirse el contenido del diccionario."
   ]
  },
  {
   "cell_type": "markdown",
   "metadata": {},
   "source": [
    "## Solución de Ada 🧚‍♂️"
   ]
  },
  {
   "cell_type": "code",
   "execution_count": 15,
   "metadata": {},
   "outputs": [
    {
     "name": "stdout",
     "output_type": "stream",
     "text": [
      "{'nombre': 'Fer'}\n",
      "nombre\n",
      "{'nombre': 'Fer', 'apellido': 'Mellone'}\n"
     ]
    }
   ],
   "source": [
    "informacion_de_persona = {}\n",
    "while True:\n",
    "    datos = input(\"Ingrese una clave\")\n",
    "    informacion_de_persona[datos] = input(\"Cual es el valor?\")\n",
    "    print(informacion_de_persona)\n",
    "\n",
    "    respuesta_usuario = input(\"Desea continuar?\")\n",
    "    resp = \"no\"\n",
    "    resp2 = \"si\"\n",
    "    if respuesta_usuario == resp2:\n",
    "        print(datos)\n",
    "    elif respuesta_usuario == resp:\n",
    "        break"
   ]
  },
  {
   "cell_type": "markdown",
   "metadata": {},
   "source": [
    "## Solución de Gabriel 👽"
   ]
  },
  {
   "cell_type": "code",
   "execution_count": 16,
   "metadata": {},
   "outputs": [
    {
     "name": "stdout",
     "output_type": "stream",
     "text": [
      "{'nombre': 'Fer'}\n",
      "{'nombre': 'Fer', 'apellido': 'Mellone'}\n",
      "{'nombre': 'Fer', 'apellido': 'Mellone', 'cabello': 'verde'}\n",
      "{'nombre': 'Fer', 'apellido': 'Mellone', 'cabello': 'verde', 'edad': '18'}\n",
      "{'nombre': 'Fer', 'apellido': 'Mellone', 'cabello': 'verde', 'edad': '18', 'altura': '1.83'}\n"
     ]
    }
   ],
   "source": [
    "caracteristicas = {}\n",
    "for tarjeta_de_contacto in range(5):\n",
    "    llave = input(\"que dato quieres agregar?\")\n",
    "    valor = input(\"que valor quieres agregar al dato?\")\n",
    "    caracteristicas[llave] = valor\n",
    "    print(caracteristicas)"
   ]
  },
  {
   "cell_type": "markdown",
   "metadata": {},
   "source": [
    "## Challenge 2 🤺\n",
    "Crear una tarjeta personal. El usuario (mediante input) puede elegir:\n",
    "\n",
    "1. Crear datos nuevos\n",
    "2. Modificar datos\n",
    "3. Eliminar datos \n",
    "\n",
    "_ejemplo de como eliminar un dato:_\n",
    "\n",
    "`del tarjeta_personal[\"nombre\"]`"
   ]
  },
  {
   "cell_type": "code",
   "execution_count": 26,
   "metadata": {},
   "outputs": [
    {
     "name": "stdout",
     "output_type": "stream",
     "text": [
      "1. Crear datos nuevos\n",
      "2. Modificar datos\n",
      "3. Eliminar datos \n",
      "{'nombre': 'Fer'}\n",
      "1. Crear datos nuevos\n",
      "2. Modificar datos\n",
      "3. Eliminar datos \n",
      "{'nombre': 'Fer', 'apellido': 'xd'}\n",
      "1. Crear datos nuevos\n",
      "2. Modificar datos\n",
      "3. Eliminar datos \n",
      "1. Crear datos nuevos\n",
      "2. Modificar datos\n",
      "3. Eliminar datos \n"
     ]
    }
   ],
   "source": [
    "tarjeta_personal = {}\n",
    "\n",
    "while True:\n",
    "    print(\"1. Crear datos nuevos\")\n",
    "    print(\"2. Modificar datos\")\n",
    "    print(\"3. Eliminar datos \")\n",
    "\n",
    "\n",
    "    # Pedir al usuario que ingrese una opción\n",
    "    opcion_seleccionada = input(\"Elegí una opción: \")\n",
    "\n",
    "    # Si el usuario elige 1 entonces\n",
    "    if opcion_seleccionada == '1':\n",
    "        # Crear dato\n",
    "        clave = input(\"Ingresá una clave\")\n",
    "        valor = input(\"Ingresá el valor\")\n",
    "        tarjeta_personal[clave] = valor\n",
    "        print(tarjeta_personal)\n",
    "    # Si el usuario elige 2\n",
    "    elif opcion_seleccionada == '2':\n",
    "        # Modificar dato\n",
    "        clave_a_modificar = input(\"Ingresá una clave a modificar\")\n",
    "        nuevo_valor = input(\"Ingresá el nuevo valor\")\n",
    "        tarjeta_personal[clave_a_modificar] = nuevo_valor\n",
    "        print(tarjeta_personal)\n",
    "        pass\n",
    "    # Si elige 3\n",
    "    elif opcion_seleccionada == '3':\n",
    "        # Eliminar\n",
    "        clave = input(\"Ingresá la clave a eliminar\")\n",
    "        del tarjeta_personal[clave]\n",
    "    else:\n",
    "      break\n"
   ]
  },
  {
   "cell_type": "markdown",
   "metadata": {},
   "source": [
    "## Challenge 3 🤺\n",
    "Crear una agenda. El usuario puede elegir:\n",
    "\n",
    "1. Mostrar los contactos\n",
    "\n",
    "2. Crear contacto\n",
    "\n",
    "3. Modificar datos del contacto"
   ]
  },
  {
   "cell_type": "code",
   "execution_count": null,
   "metadata": {},
   "outputs": [],
   "source": [
    "agenda = ['manu', 'fer']\n",
    "nombre = input(\"Ingresar el siguiente contacto\")\n",
    "apellido = input(\"Ingresar el siguiente contacto\")\n",
    "\n",
    "contacto = {}\n",
    "\n",
    "contacto['nombre'] = nombre\n",
    "\n",
    "agenda.append(contacto)\n",
    "agenda['contacto1']\n",
    "agenda[0]"
   ]
  },
  {
   "cell_type": "markdown",
   "metadata": {},
   "source": [
    "## Solución de tukp (Ale) 🎧"
   ]
  },
  {
   "cell_type": "code",
   "execution_count": 27,
   "metadata": {},
   "outputs": [
    {
     "name": "stdout",
     "output_type": "stream",
     "text": [
      "Para crear una agenda, tus opciones son las siguientes: \n",
      "1. Crear nuevo contacto\n",
      "2. Modificar contacto\n",
      "3. Eliminar contacto\n",
      "4. Salir\n",
      "5. Ver agenda\n",
      "6. Guardar agenda\n",
      "Tu agenda:  {'fer': '123'}\n",
      "Para crear una agenda, tus opciones son las siguientes: \n",
      "1. Crear nuevo contacto\n",
      "2. Modificar contacto\n",
      "3. Eliminar contacto\n",
      "4. Salir\n",
      "5. Ver agenda\n",
      "6. Guardar agenda\n",
      "Tu agenda:  {'fer': '321'}\n",
      "Para crear una agenda, tus opciones son las siguientes: \n",
      "1. Crear nuevo contacto\n",
      "2. Modificar contacto\n",
      "3. Eliminar contacto\n",
      "4. Salir\n",
      "5. Ver agenda\n",
      "6. Guardar agenda\n",
      "Tu agenda:  {}\n",
      "Para crear una agenda, tus opciones son las siguientes: \n",
      "1. Crear nuevo contacto\n",
      "2. Modificar contacto\n",
      "3. Eliminar contacto\n",
      "4. Salir\n",
      "5. Ver agenda\n",
      "6. Guardar agenda\n"
     ]
    }
   ],
   "source": [
    "datos = {}\n",
    "\n",
    "while True:\n",
    "\n",
    "    print('Para crear una agenda, tus opciones son las siguientes: ')\n",
    "    print(\"1. Crear nuevo contacto\")\n",
    "    print(\"2. Modificar contacto\")\n",
    "    print(\"3. Eliminar contacto\")\n",
    "    print(\"4. Salir\")\n",
    "    print(\"5. Ver agenda\")\n",
    "    print(\"6. Guardar agenda\")\n",
    "\n",
    "\n",
    "\n",
    "    opcion_elegida = input()\n",
    "\n",
    "\n",
    "\n",
    "    if opcion_elegida == str(1):\n",
    "        #hacer un diccionario\n",
    "\n",
    "\n",
    "\n",
    "        valor = input(\"Agrega un nombre \")\n",
    "        clave = input(\"Agrega un numero de telefono \")\n",
    "        datos[str(valor)] = str(clave)\n",
    "        print('Tu agenda: ',datos)\n",
    "\n",
    "    elif opcion_elegida == str(2):\n",
    "\n",
    "        eleccion = input(\"Ingresa el contacto que queres modificar \")\n",
    "        cambio = input(\"Ingresa  el nuevo nombre\")\n",
    "\n",
    "        datos[str(eleccion)] = str(cambio)\n",
    "\n",
    "\n",
    "        print('Tu agenda: ',datos)\n",
    "\n",
    "\n",
    "    elif opcion_elegida == str(3):\n",
    "\n",
    "        eleccion = input(\"Ingrese el contacto a borrar \")\n",
    "\n",
    "        del datos[str(eleccion)] \n",
    "\n",
    "        print('Tu agenda: ',datos)\n",
    "\n",
    "    elif opcion_elegida == str(4):\n",
    "        break\n",
    "\n",
    "    elif opcion_elegida == str(5):\n",
    "        print('Tu agenda: ',datos)\n",
    "\n",
    "    elif opcion_elegida == str(6):\n",
    "        print('Ingrese el nombre del archivo')\n",
    "        nombre_archivo = input()\n",
    "        fp = open(nombre_archivo, 'w')\n",
    "        fp.write(str(datos))\n",
    "        fp.close()\n",
    "\n",
    "        print(datos)"
   ]
  }
 ],
 "metadata": {
  "kernelspec": {
   "display_name": "Python 3.10.4 64-bit",
   "language": "python",
   "name": "python3"
  },
  "language_info": {
   "codemirror_mode": {
    "name": "ipython",
    "version": 3
   },
   "file_extension": ".py",
   "mimetype": "text/x-python",
   "name": "python",
   "nbconvert_exporter": "python",
   "pygments_lexer": "ipython3",
   "version": "3.10.4"
  },
  "orig_nbformat": 4,
  "vscode": {
   "interpreter": {
    "hash": "aee8b7b246df8f9039afb4144a1f6fd8d2ca17a180786b69acc140d282b71a49"
   }
  }
 },
 "nbformat": 4,
 "nbformat_minor": 2
}
