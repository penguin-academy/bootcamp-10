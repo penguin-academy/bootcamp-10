{
 "cells": [
  {
   "cell_type": "markdown",
   "metadata": {},
   "source": [
    "## Repaso y Wordle"
   ]
  },
  {
   "cell_type": "code",
   "execution_count": null,
   "metadata": {},
   "outputs": [],
   "source": [
    "def imprimir_saludo():\n",
    "    print(\"hola mundo\")\n",
    "    print(\"hola mundo\")\n",
    "    print(\"hola mundo\")\n",
    "\n",
    "imprimir_saludo()"
   ]
  },
  {
   "cell_type": "markdown",
   "metadata": {},
   "source": [
    "## Parámetros y argumentos"
   ]
  },
  {
   "cell_type": "code",
   "execution_count": 2,
   "metadata": {},
   "outputs": [],
   "source": [
    "palabra_ejemplo = \"calor\"\n",
    "\n",
    "def cambiar_palabra_ejemplo(nueva_palabra):\n",
    "    global palabra_ejemplo\n",
    "    palabra_ejemplo = nueva_palabra\n",
    "\n",
    "cambiar_palabra_ejemplo(\"frio\")\n",
    "\n",
    "print(palabra_ejemplo)"
   ]
  },
  {
   "cell_type": "markdown",
   "metadata": {},
   "source": [
    "## Funciones (return)"
   ]
  },
  {
   "cell_type": "code",
   "execution_count": 12,
   "metadata": {},
   "outputs": [
    {
     "name": "stdout",
     "output_type": "stream",
     "text": [
      "25\n",
      "25\n"
     ]
    }
   ],
   "source": [
    "def suma(sumando1, sumando2):\n",
    "    resultado = sumando1 + sumando2\n",
    "    resultado = resultado * 5\n",
    "    return resultado\n",
    "\n",
    "resultado1 = suma(1, 4)\n",
    "resultado2 = suma(1, 4)\n",
    "\n",
    "\n",
    "print(resultado1)\n",
    "print(resultado2)"
   ]
  },
  {
   "cell_type": "markdown",
   "metadata": {},
   "source": [
    "## Challenge 🤺\n",
    "Crear una función que reciba dos parámetros (una palabra y un número), y que devuelva True si el número es igual a la cantidad de letras de la palabra. En caso contrario, que devuelva False.\n",
    "\n",
    "Pista: cantidad de letras de una palabra en python\n"
   ]
  },
  {
   "cell_type": "markdown",
   "metadata": {},
   "source": [
    "## Solución de Victor 🐂\n"
   ]
  },
  {
   "cell_type": "code",
   "execution_count": 14,
   "metadata": {},
   "outputs": [
    {
     "name": "stdout",
     "output_type": "stream",
     "text": [
      "False\n"
     ]
    }
   ],
   "source": [
    "def palabra_numero (palabra, numero):\n",
    "    numero_letras = len(palabra)\n",
    "    if numero_letras == numero:\n",
    "        return True\n",
    "    else : \n",
    "        return False\n",
    "\n",
    "print(palabra_numero (\"Casa\", 5))"
   ]
  },
  {
   "cell_type": "markdown",
   "metadata": {},
   "source": [
    "## Solución de Ruh 🥹"
   ]
  },
  {
   "cell_type": "code",
   "execution_count": 32,
   "metadata": {},
   "outputs": [
    {
     "name": "stdout",
     "output_type": "stream",
     "text": [
      "False\n"
     ]
    }
   ],
   "source": [
    "def controlar_cantidad(palabra, numero):\n",
    "    cantidad_de_letras = len(palabra)\n",
    "    if cantidad_de_letras == numero:\n",
    "        return True \n",
    "    else:\n",
    "        return False\n",
    "\n",
    "\n",
    "resultado = controlar_cantidad(\"Marzo\", 2)\n",
    "print(resultado)"
   ]
  },
  {
   "cell_type": "markdown",
   "metadata": {},
   "source": [
    "## Challenge 🤺\n",
    "Crear función que revise si una palabra contiene una letra. En caso de que la contenga, retornar la letra entre corchetes []. De lo contrario, retornar solo la letra.\n",
    "\n",
    "`\"a\" in \"pera\"`"
   ]
  },
  {
   "cell_type": "markdown",
   "metadata": {},
   "source": [
    "## Solución de Dani 🍖"
   ]
  },
  {
   "cell_type": "code",
   "execution_count": 17,
   "metadata": {},
   "outputs": [
    {
     "name": "stdout",
     "output_type": "stream",
     "text": [
      "[a]\n"
     ]
    }
   ],
   "source": [
    "palabra = input(\"INGRESE PALABRA\")\n",
    "letra = input(\"INGRESE LETRA\")\n",
    "contador = 0\n",
    "\n",
    "def buscarLetra(palabra, letra):\n",
    "    if letra in palabra:\n",
    "        return \"[\" + letra + \"]\"\n",
    "    else:\n",
    "        return letra\n",
    "\n",
    "\n",
    "print(buscarLetra(palabra, letra))"
   ]
  },
  {
   "cell_type": "markdown",
   "metadata": {},
   "source": [
    "## Solución de Jaime 🎸\n"
   ]
  },
  {
   "cell_type": "code",
   "execution_count": 21,
   "metadata": {},
   "outputs": [
    {
     "name": "stdout",
     "output_type": "stream",
     "text": [
      "a\n"
     ]
    }
   ],
   "source": [
    "def identificar_letra(letra, palabra):\n",
    "    if letra in palabra:\n",
    "        return  \"[\" + letra + \"]\"\n",
    "    else:\n",
    "        return  letra\n",
    "\n",
    "este = identificar_letra(\"a\", \"estimulo\")\n",
    "print(este)"
   ]
  },
  {
   "cell_type": "markdown",
   "metadata": {},
   "source": [
    "## Convertir palabras en listas"
   ]
  },
  {
   "cell_type": "code",
   "execution_count": 23,
   "metadata": {},
   "outputs": [
    {
     "name": "stdout",
     "output_type": "stream",
     "text": [
      "['c', 'a', 's', 'a']\n"
     ]
    }
   ],
   "source": [
    "palabra = \"casa\"\n",
    "\n",
    "palabra_convertida = list(palabra)\n",
    "\n",
    "print(palabra_convertida)"
   ]
  },
  {
   "cell_type": "markdown",
   "metadata": {},
   "source": [
    "## Challenge 🤺\n",
    "\n",
    "Pedir al usuario que ingrese 1 palabra, luego convertir esa palabra a una lista de sus caracteres con list(). Agregar esa lista de caracteres a una lista llamada `palabras_ingresadas`. Repetir el proceso 3 veces. Cada vez que se agregue una lista de caracteres, imprimir la lista `palabras_ingresadas`."
   ]
  },
  {
   "cell_type": "markdown",
   "metadata": {},
   "source": [
    "## Solución de Angeles 🧘"
   ]
  },
  {
   "cell_type": "code",
   "execution_count": 24,
   "metadata": {},
   "outputs": [
    {
     "name": "stdout",
     "output_type": "stream",
     "text": [
      "[['p', 'a', 't', 'o']]\n",
      "[['p', 'a', 't', 'o'], ['p', 'o', 'l', 'l', 'o']]\n",
      "[['p', 'a', 't', 'o'], ['p', 'o', 'l', 'l', 'o'], ['g', 'a', 't', 'i', 't', 'o']]\n"
     ]
    }
   ],
   "source": [
    "palabras_ingresadas = []\n",
    "\n",
    "for iterador in range (3):\n",
    "    palabra = input('Hola, ingrese una palabra')\n",
    "    lista1 = list(palabra)\n",
    "    palabras_ingresadas.append(lista1)\n",
    "    print(palabras_ingresadas)"
   ]
  },
  {
   "cell_type": "markdown",
   "metadata": {},
   "source": [
    "## Solución de Elena 👍"
   ]
  },
  {
   "cell_type": "code",
   "execution_count": 25,
   "metadata": {},
   "outputs": [
    {
     "name": "stdout",
     "output_type": "stream",
     "text": [
      "['p', 'a', 't', 'o']\n",
      "['p', 'o', 'l', 'l', 'o']\n",
      "['g', 'a', 't', 'i', 't', 'o']\n",
      "[['p', 'a', 't', 'o'], ['p', 'o', 'l', 'l', 'o'], ['g', 'a', 't', 'i', 't', 'o']]\n"
     ]
    }
   ],
   "source": [
    "lista_final = []\n",
    "#Numero 1\n",
    "palabra = input(\"Ingrese su nombre\")\n",
    "palabras_ingresadas = list(palabra)\n",
    "print(palabras_ingresadas)\n",
    "lista_final.append(palabras_ingresadas)\n",
    "#Numero 2\n",
    "palabra = input(\"Ingresar su apellido\")\n",
    "palabras_ingresadas = list(palabra)\n",
    "print(palabras_ingresadas)\n",
    "lista_final.append(palabras_ingresadas)\n",
    "##Numero3\n",
    "palabra = input(\"Ingrese su C.I\")\n",
    "palabras_ingresadas = list(palabra)\n",
    "print(palabras_ingresadas)\n",
    "lista_final.append(palabras_ingresadas)\n",
    "print(lista_final)"
   ]
  },
  {
   "cell_type": "markdown",
   "metadata": {},
   "source": [
    "## Bucles (for)\n",
    "\n",
    "- Crear una lista vacía `letras_verificadas` para las letras de la palabra luego de ser verificada.\n",
    "- Definir la cantidad de letras de la palabra a encontrar\n",
    "- Si las letras existen en la palabra a encontrar y sus posiciones coinciden: encerrar en corchetes `[]` y agregar al resultado\n",
    "- Si las letras existen en la palabra a encontrar pero sus posiciones no coinciden: encerrar en parentesis `()` y agregar al resultado\n",
    "- Si no se cumple ninguna de las anteriores, agregar la letra al resultado, sin modificaciones.\n",
    "- Return del resultado"
   ]
  },
  {
   "cell_type": "code",
   "execution_count": 33,
   "metadata": {},
   "outputs": [],
   "source": [
    "\n",
    "def verificar_palabras(secreta, ingresada):\n",
    "    letras_verificadas = []\n",
    "    cantidad_de_letras = 5\n",
    "\n",
    "    palabra_ingresada_convertida = list(ingresada)\n",
    "    palabra_secreta_convertida = list(secreta)\n",
    "\n",
    "    for index in range(cantidad_de_letras):\n",
    "\n",
    "        letra_a_verificar = palabra_ingresada_convertida[index]\n",
    "\n",
    "        letras_son_iguales = letra_a_verificar == palabra_secreta_convertida[index]\n",
    "\n",
    "        letra_en_palabra = letra_a_verificar in secreta\n",
    "\n",
    "        if letras_son_iguales:\n",
    "            letras_verificadas.append(\"[\" + letra_a_verificar + \"]\")\n",
    "        elif letra_en_palabra:\n",
    "            letras_verificadas.append(\"(\" + letra_a_verificar + \")\")\n",
    "        else:\n",
    "            letras_verificadas.append(letra_a_verificar)\n",
    "    \n",
    "    return letras_verificadas\n",
    "        \n",
    "\n",
    "\n",
    "palabras_verificadas = verificar_palabras(\"barco\", \"marco\")\n",
    "palabras_verificadas_2 = verificar_palabras(\"barco\", \"arcos\")\n",
    "\n",
    "print(palabras_verificadas)\n",
    "print(palabras_verificadas_2)\n"
   ]
  },
  {
   "cell_type": "markdown",
   "metadata": {},
   "source": [
    "## Challenge 🤺\n",
    "\n",
    "Dada la lista de ejemplo:\n",
    "\n",
    "lista = [['h', 'o', 'l', 'i', 's'], ['h', 'e', 'l', 'l', 'o'], ['h', 'a', 'l', 'l', 'o']]\n",
    "\n",
    "Crear una función que imprima una grilla (lista de listas), una línea por cada lista dentro de la lista principal.\n",
    "\n",
    "Ejemplo del resultado esperado:\n",
    "\n",
    "['h', 'o', 'l', 'i', 's']\n",
    "\n",
    "['h', 'e', 'l', 'l', 'o']\n",
    "\n",
    "['h', 'a', 'l', 'l', 'o']"
   ]
  },
  {
   "cell_type": "markdown",
   "metadata": {},
   "source": [
    "## Solución de Fabri ⚛️"
   ]
  },
  {
   "cell_type": "code",
   "execution_count": 40,
   "metadata": {},
   "outputs": [
    {
     "name": "stdout",
     "output_type": "stream",
     "text": [
      "[['h', 'o', 'l', 'i', 's'], ['h', 'e', 'l', 'l', 'o'], ['h', 'a', 'l', 'l', 'o']]\n"
     ]
    }
   ],
   "source": [
    "lista_grande = [['h', 'o', 'l', 'i', 's'], ['h', 'e', 'l', 'l', 'o'], ['h', 'a', 'l', 'l', 'o']]\n",
    "\n",
    "def grilla (listax):\n",
    "    for x in listax:\n",
    "        print(x)\n",
    "\n",
    "\n",
    "print(lista_grande)"
   ]
  },
  {
   "cell_type": "markdown",
   "metadata": {},
   "source": [
    "## Solución de Melman 🦒"
   ]
  },
  {
   "cell_type": "code",
   "execution_count": 35,
   "metadata": {},
   "outputs": [
    {
     "name": "stdout",
     "output_type": "stream",
     "text": [
      "['h', 'o', 'l', 'i', 's']\n",
      "['h', 'e', 'l', 'l', 'o']\n",
      "['h', 'a', 'l', 'l', 'o']\n"
     ]
    }
   ],
   "source": [
    "lista = [['h', 'o', 'l', 'i', 's'], ['h', 'e', 'l', 'l', 'o'], ['h', 'a', 'l', 'l', 'o']]\n",
    "\n",
    "def grilla (lista_de_listas):\n",
    "    cantidad_de_listas = len(lista_de_listas)\n",
    "    for i in range(cantidad_de_listas):\n",
    "        print(lista_de_listas[i])\n",
    "\n",
    "grilla(lista)"
   ]
  },
  {
   "cell_type": "markdown",
   "metadata": {},
   "source": [
    "## Bucles (while)"
   ]
  },
  {
   "cell_type": "code",
   "execution_count": 49,
   "metadata": {},
   "outputs": [
    {
     "name": "stdout",
     "output_type": "stream",
     "text": [
      "No correcta\n",
      "No correcta\n",
      "No correcta\n"
     ]
    }
   ],
   "source": [
    "# while True:\n",
    "#     print(\"si\")\n",
    "#     nombre = \"Fulano\"\n",
    "#     resultado = 10 + 15\n",
    "#     mensaje = \"Hola \" + nombre\n",
    "\n",
    "# while False:\n",
    "#     print(\"no\")\n",
    "\n",
    "palabra_secreta = \"casas\"\n",
    "palabra_ingresada = input(\"Ingresa una palabra\")\n",
    "\n",
    "intentos = 2\n",
    "\n",
    "while True:\n",
    "    if palabra_ingresada == palabra_secreta or intentos <= 0:\n",
    "        break\n",
    "    else:\n",
    "        intentos = intentos - 1\n",
    "        print(\"No correcta\")\n",
    "        palabra_ingresada = input(\"Ingresa otra palabra\")\n"
   ]
  }
 ],
 "metadata": {
  "kernelspec": {
   "display_name": "Python 3.10.4 64-bit",
   "language": "python",
   "name": "python3"
  },
  "language_info": {
   "codemirror_mode": {
    "name": "ipython",
    "version": 3
   },
   "file_extension": ".py",
   "mimetype": "text/x-python",
   "name": "python",
   "nbconvert_exporter": "python",
   "pygments_lexer": "ipython3",
   "version": "3.10.4"
  },
  "orig_nbformat": 4,
  "vscode": {
   "interpreter": {
    "hash": "aee8b7b246df8f9039afb4144a1f6fd8d2ca17a180786b69acc140d282b71a49"
   }
  }
 },
 "nbformat": 4,
 "nbformat_minor": 2
}
