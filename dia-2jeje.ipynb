{
 "cells": [
  {
   "cell_type": "markdown",
   "metadata": {},
   "source": [
    "## Solución de Andrew 🥷"
   ]
  },
  {
   "cell_type": "code",
   "execution_count": 1,
   "metadata": {},
   "outputs": [
    {
     "name": "stdout",
     "output_type": "stream",
     "text": [
      "Cargando combustible . . . Listo!\n",
      "Cargando combustible . . . Listo!\n",
      "Cargando combustible . . . Listo!\n",
      "La cantidad actual de combustible es: 35\n"
     ]
    }
   ],
   "source": [
    "combustible_actual = 5 #litros\n",
    "\n",
    "def cargarCombustible(cantidad):\n",
    "    global combustible_actual\n",
    "    combustible_actual = combustible_actual + cantidad\n",
    "    print(\"Cargando combustible . . . Listo!\")\n",
    "\n",
    "cargarCombustible(5)\n",
    "cargarCombustible(10)\n",
    "cargarCombustible(15)\n",
    "\n",
    "print(\"La cantidad actual de combustible es: \" + str(combustible_actual))"
   ]
  },
  {
   "cell_type": "markdown",
   "metadata": {},
   "source": [
    "## Solución de Nikito 🍪🐒"
   ]
  },
  {
   "cell_type": "code",
   "execution_count": 2,
   "metadata": {},
   "outputs": [
    {
     "name": "stdout",
     "output_type": "stream",
     "text": [
      "Ahora tienes 25 litros en tu tanque, cargaste 20 litros\n",
      "Cargar 20 litros, te costo 200000 guaranies \n"
     ]
    }
   ],
   "source": [
    "combustible = 5 #lts\n",
    "\n",
    "def cargar_nafta():\n",
    "    global combustible \n",
    "    litros = int(input(\"Cuantos litros de combustible deseas cargar? \"))\n",
    "    combustible = combustible + litros \n",
    "    print(f\"Ahora tienes {combustible} litros en tu tanque, cargaste {litros} litros\")\n",
    "    precio = litros * 10000\n",
    "    print(f\"Cargar {litros} litros, te costo {precio} guaranies \")\n",
    "\n",
    "cargar_nafta()"
   ]
  },
  {
   "cell_type": "markdown",
   "metadata": {},
   "source": [
    "# Condicionales"
   ]
  },
  {
   "cell_type": "code",
   "execution_count": 14,
   "metadata": {},
   "outputs": [
    {
     "name": "stdout",
     "output_type": "stream",
     "text": [
      "Sé que hendy pero carga combus porfa :c\n",
      "terminó la ejecución\n"
     ]
    }
   ],
   "source": [
    "combustible = 0\n",
    "tengo_hambre = True\n",
    "\n",
    "if combustible > 0:\n",
    "    print(\"El auto puede arrancar\")\n",
    "else:\n",
    "    print(\"Sé que hendy pero carga combus porfa :c\")\n",
    "\n",
    "print(\"terminó la ejecución\")\n"
   ]
  },
  {
   "cell_type": "markdown",
   "metadata": {},
   "source": [
    "## Varias condiciones"
   ]
  },
  {
   "cell_type": "code",
   "execution_count": 16,
   "metadata": {},
   "outputs": [
    {
     "name": "stdout",
     "output_type": "stream",
     "text": [
      "Es menor de edad y no puede conducir\n"
     ]
    }
   ],
   "source": [
    "edad = 10\n",
    "tiene_licencia = False\n",
    "\n",
    "if edad < 18:\n",
    "    print(\"Es menor de edad y no puede conducir\")\n",
    "elif edad >= 90 and tiene_licencia:\n",
    "    print(\"Es muy mayor. No es recomendable que conduzca\")\n",
    "elif not tiene_licencia:\n",
    "    print(\"Necesita una licencia para conducir\")\n",
    "else:\n",
    "    print(\"Sí puede conducir\")"
   ]
  },
  {
   "cell_type": "markdown",
   "metadata": {},
   "source": [
    "## Challenge 🤺\n",
    "\n",
    "Escribir un programa en el que se pregunte al usuario por una temperatura (en grados Celsius), imprima la temperatura escrita, y luego clasificar la temperatura ingresada en los siguientes niveles:\n",
    "\n",
    "Entre -10 y 18 grados, que imprima \"Fresquete\". Entre 19 y 30 grados, que imprima \"Calor'i\". Entre 31 y 45 grados, que imprima \"Hakuuuuuu\". Para todo lo demás, imprimir \"Ñamano mba'e!\"."
   ]
  },
  {
   "cell_type": "markdown",
   "metadata": {},
   "source": [
    "Solución de Tam 🎀"
   ]
  },
  {
   "cell_type": "code",
   "execution_count": 21,
   "metadata": {},
   "outputs": [
    {
     "name": "stdout",
     "output_type": "stream",
     "text": [
      "ñamano mbae\n"
     ]
    }
   ],
   "source": [
    "temperatura = int ( input (\"ingrese  la temperatura\"))\n",
    "if temperatura > 9  and temperatura < 19:\n",
    "    print (\"fresquete\")\n",
    "elif temperatura > 18 and temperatura < 31:\n",
    "    print (\"calor`i\")\n",
    "elif temperatura > 30 and temperatura < 46:\n",
    "    print (\"hakuroooo\")\n",
    "else:\n",
    "    print (\"ñamano mbae\")"
   ]
  },
  {
   "cell_type": "markdown",
   "metadata": {},
   "source": [
    "## Solución de Angel 😇"
   ]
  },
  {
   "cell_type": "code",
   "execution_count": 26,
   "metadata": {},
   "outputs": [
    {
     "name": "stdout",
     "output_type": "stream",
     "text": [
      "niamanota mba'e\n"
     ]
    }
   ],
   "source": [
    "temperatura = int(input(\"cuantos grados hace?\")) # int = pasar a numero entero\n",
    "if temperatura >=-10 and temperatura <=18:\n",
    "    print(\"fresquete\")\n",
    "elif temperatura >=19 and temperatura <=30:\n",
    "    print(\"calor'i\")\n",
    "elif temperatura >=31 and temperatura <=45:\n",
    "    print(\"hakuuuuuuuuuuu\")\n",
    "else:\n",
    "    print(\"niamanota mba'e\")"
   ]
  },
  {
   "cell_type": "markdown",
   "metadata": {},
   "source": [
    "## Bucles condicionales"
   ]
  },
  {
   "cell_type": "code",
   "execution_count": 27,
   "metadata": {},
   "outputs": [
    {
     "name": "stdout",
     "output_type": "stream",
     "text": [
      "El auto avanzó\n",
      "El auto avanzó\n",
      "El auto avanzó\n",
      "El auto avanzó\n",
      "El auto avanzó\n",
      "El auto avanzó\n",
      "se quedo sin agua\n"
     ]
    }
   ],
   "source": [
    "combustible = 5\n",
    "\n",
    "#El auto avance hasta que se quede sin combustible\n",
    "\n",
    "print(\"El auto avanzó\")\n",
    "\n",
    "while combustible > 0:\n",
    "    combustible = combustible - 1\n",
    "    print(\"El auto avanzó\")\n",
    "\n",
    "print(\"se quedo sin agua\")"
   ]
  },
  {
   "cell_type": "code",
   "execution_count": 30,
   "metadata": {},
   "outputs": [],
   "source": [
    "contrasena_guardada = \"admin354.\"\n",
    "contrasena_ingresada = input(\"Ingresar contrasena\")\n",
    "\n",
    "while contrasena_guardada != contrasena_ingresada:\n",
    "    print(\"Contrasena incorrecta. Intente nuevamente.\")\n",
    "    contrasena_ingresada = input(\"Ingresa tu contrasena\")\n",
    "\n",
    "print(\"Contrasena correcta\")"
   ]
  },
  {
   "cell_type": "markdown",
   "metadata": {},
   "source": [
    "## Challenge 🤺 - 15m\n",
    "Escribir un programa que almacene una contraseña en una variable, y pregunte al usuario por la contraseña hasta que introduzca la contraseña correcta.\n",
    "\n",
    "Cuando el usuario ingrese la contrasena correcta, imprimir un mensaje secreto."
   ]
  },
  {
   "cell_type": "markdown",
   "metadata": {},
   "source": [
    "## Solución de Daly ĺ\n",
    "\n"
   ]
  },
  {
   "cell_type": "code",
   "execution_count": 1,
   "metadata": {},
   "outputs": [
    {
     "name": "stdout",
     "output_type": "stream",
     "text": [
      "Incorrect password. Try again.\n",
      "Incorrect password. Try again.\n",
      "Welcome to your dream place, misstres.\n"
     ]
    }
   ],
   "source": [
    "contrasena_guardada = \"sunflower0\"\n",
    "contrasena_ingresada = input(\"Enter your password, please.\")\n",
    "\n",
    "while contrasena_guardada != contrasena_ingresada :\n",
    "    print(\"Incorrect password. Try again.\")\n",
    "    contrasena_ingresada = input(\"Enter your password again.\")\n",
    "\n",
    "print(\"Welcome to your dream place, misstres.\") \n"
   ]
  },
  {
   "cell_type": "code",
   "execution_count": 15,
   "metadata": {},
   "outputs": [
    {
     "name": "stdout",
     "output_type": "stream",
     "text": [
      "Toyota\n",
      "3\n",
      "['Ford', 'Toyota', 'Kia', 'Mercedes']\n",
      "['Ford', 'Toyota', 'Suzuki', 'Mercedes']\n",
      "['Toyota', 'Suzuki', 'Mercedes']\n",
      "['Toyota', 'Mercedes']\n"
     ]
    }
   ],
   "source": [
    "\n",
    "lista_booleana = [True, False, True, True]\n",
    "lista_numeros = [1, 2, 11.4, 20]\n",
    "\n",
    "print(marcas[1])\n",
    "marcas = [\"Ford\", \"Toyota\", \"Kia\"]\n",
    "# Saber la longitud de la lista\n",
    "print(len(marcas))\n",
    "\n",
    "# Agregar dato\n",
    "marcas.append(\"Mercedes\")\n",
    "print(marcas)\n",
    "\n",
    "# Modificamos datos de la lista\n",
    "marcas[2] = \"Suzuki\"\n",
    "print(marcas)\n",
    "\n",
    "# Eliminar un dato de la lista\n",
    "marcas.remove(\"Ford\")\n",
    "print(marcas)\n",
    "\n",
    "marcas.pop(1)\n",
    "print(marcas)"
   ]
  },
  {
   "cell_type": "markdown",
   "metadata": {},
   "source": [
    "## Challenge 🤺\n",
    "Crear una lista de 5 elementos con algo de su interés o utilizar la lista `marcas = [\"Ford\", \"Chevrolet\", \"Nissan\", \"Toyota\"]`. \n",
    "\n",
    "Luego, seguir los siguientes pasos.\n",
    "\n",
    "- Agregar un elemento al final de la lista.\n",
    "\n",
    "- Modificar el segundo elemento.\n",
    "\n",
    "- Eliminar el tercer elemento."
   ]
  },
  {
   "cell_type": "markdown",
   "metadata": {},
   "source": [
    "## Solución de Pedro 🦇\n"
   ]
  },
  {
   "cell_type": "code",
   "execution_count": 30,
   "metadata": {},
   "outputs": [
    {
     "name": "stdout",
     "output_type": "stream",
     "text": [
      "['leche', 'naranja', 'manteca', 'azucar', 'chocolate']\n"
     ]
    }
   ],
   "source": [
    "Lista_supermercado = [\"leche\", \"huevo\", \"harina\", \"manteca\", \"azucar\"]\n",
    "Lista_supermercado.append (\"chocolate\")\n",
    "Lista_supermercado [1] = \"naranja\"\n",
    "Lista_supermercado.pop (2)\n",
    "\n",
    "print (Lista_supermercado)"
   ]
  },
  {
   "cell_type": "markdown",
   "metadata": {},
   "source": [
    "## Solución de Sol 🌞"
   ]
  },
  {
   "cell_type": "code",
   "execution_count": 31,
   "metadata": {},
   "outputs": [
    {
     "name": "stdout",
     "output_type": "stream",
     "text": [
      "['Azul', 'Rojo', 'Amarillo', 'Negro', 'Blanco', 'Mostaza']\n",
      "['Azul', 'Verde', 'Amarillo', 'Negro', 'Blanco', 'Mostaza']\n",
      "['Azul', 'Verde', 'Negro', 'Blanco', 'Mostaza']\n"
     ]
    }
   ],
   "source": [
    "lista_de_interes = [\"Azul\",\"Rojo\",\"Amarillo\",\"Negro\",\"Blanco\"]\n",
    "lista_de_interes.append(\"Mostaza\")\n",
    "print(lista_de_interes)\n",
    "lista_de_interes[1]=\"Verde\"\n",
    "print(lista_de_interes)\n",
    "lista_de_interes.pop(2)\n",
    "print(lista_de_interes)"
   ]
  },
  {
   "cell_type": "markdown",
   "metadata": {},
   "source": [
    "## Bucles iterativos"
   ]
  },
  {
   "cell_type": "code",
   "execution_count": 6,
   "metadata": {},
   "outputs": [
    {
     "name": "stdout",
     "output_type": "stream",
     "text": [
      "Ford\n",
      "Toyota\n",
      "Kia\n"
     ]
    }
   ],
   "source": [
    "# for perrito in range(20):\n",
    "#     print(perrito)\n",
    "\n",
    "marcas = [\"Ford\", \"Toyota\", \"Kia\", \"Chevrolet\"]\n",
    "\n",
    "for marca in marcas:\n",
    "    if marca == \"Kia\":\n",
    "        break\n",
    "    \n",
    "    print(marca)\n",
    "\n",
    "print(\"Terminó\")\n",
    "\n"
   ]
  },
  {
   "cell_type": "markdown",
   "metadata": {},
   "source": [
    "## Challenge 🤺\n",
    "\n",
    "Recorrer los elementos de una lista de marcas de auto dada e imprimir cada marca solamente si tiene 6 letras o más.\n",
    "\n",
    "`marcas = [\"Ford\", \"Chevrolet\", \"Nissan\", \"Toyota\"]`"
   ]
  },
  {
   "cell_type": "code",
   "execution_count": 8,
   "metadata": {},
   "outputs": [
    {
     "name": "stdout",
     "output_type": "stream",
     "text": [
      "4\n"
     ]
    }
   ],
   "source": [
    "cantidad_de_letras = len(\"hola\")\n",
    "\n",
    "print(cantidad_de_letras)"
   ]
  },
  {
   "cell_type": "markdown",
   "metadata": {},
   "source": [
    "## Solución de Albert 🍔"
   ]
  },
  {
   "cell_type": "code",
   "execution_count": 9,
   "metadata": {},
   "outputs": [
    {
     "name": "stdout",
     "output_type": "stream",
     "text": [
      "Chevrolet\n",
      "Nissan\n",
      "Toyota\n"
     ]
    }
   ],
   "source": [
    "marcas = [\"Ford\", \"Chevrolet\", \"Nissan\", \"Toyota\"] #Valores de la lista\n",
    "\n",
    "\n",
    "for marca in marcas:    #Para algun item en la lista de valores.\n",
    "    if len (marca) >= 6:#Si la palabra tiene 6 o mas letras\n",
    "        print(marca)"
   ]
  },
  {
   "cell_type": "markdown",
   "metadata": {},
   "source": [
    "## Solución de Maxi 🛸"
   ]
  },
  {
   "cell_type": "code",
   "execution_count": 12,
   "metadata": {},
   "outputs": [
    {
     "name": "stdout",
     "output_type": "stream",
     "text": [
      "Chevrolet\n",
      "Nissan\n",
      "Toyota\n"
     ]
    }
   ],
   "source": [
    "marcas = [\"Ford\", \"Chevrolet\", \"Nissan\", \"Toyota\"]\n",
    "\n",
    "for marca in marcas:\n",
    "    longitud = len(marca)\n",
    "    if longitud >= 6:\n",
    "        print(marca)"
   ]
  },
  {
   "cell_type": "markdown",
   "metadata": {},
   "source": [
    "## Wordle\n",
    "### Requerimientos\n",
    "\n",
    "- Variables\n",
    "- Tipos de datos\n",
    "- Concatenación\n",
    "- Operaciones lógicos\n",
    "- Condicionales (control de flujo)\n",
    "- Funciones (propias & built-in)\n",
    "- Bucles"
   ]
  },
  {
   "cell_type": "markdown",
   "metadata": {},
   "source": [
    "## Variables"
   ]
  },
  {
   "cell_type": "code",
   "execution_count": null,
   "metadata": {},
   "outputs": [],
   "source": [
    "palabra_secreta = \"calor\"\n",
    "# letra1 = \"a\"\n",
    "# letra2 = \"r\""
   ]
  },
  {
   "cell_type": "markdown",
   "metadata": {},
   "source": [
    "## Tipos de datos"
   ]
  },
  {
   "cell_type": "code",
   "execution_count": null,
   "metadata": {},
   "outputs": [],
   "source": [
    "cantidad_de_letras = 5\n",
    "\n",
    "lista_de_letras = [\"c\", \"a\", \"l\", \"o\", \"r\"]\n"
   ]
  },
  {
   "cell_type": "markdown",
   "metadata": {},
   "source": [
    "## Concatenación"
   ]
  },
  {
   "cell_type": "code",
   "execution_count": null,
   "metadata": {},
   "outputs": [],
   "source": [
    "print(\"La palabra que ingresaste era correcta!\" + palabra_secreta)"
   ]
  },
  {
   "cell_type": "markdown",
   "metadata": {},
   "source": [
    "## Operadores lógicos"
   ]
  },
  {
   "cell_type": "code",
   "execution_count": 16,
   "metadata": {},
   "outputs": [
    {
     "name": "stdout",
     "output_type": "stream",
     "text": [
      "True\n"
     ]
    }
   ],
   "source": [
    "palabra_secreta = \"calor\"\n",
    "letra = input(\"Ingresa una letra\")\n",
    "\n",
    "letra_esta_en_la_palabra = letra in palabra_secreta\n",
    "\n",
    "print(letra_esta_en_la_palabra)"
   ]
  },
  {
   "cell_type": "markdown",
   "metadata": {},
   "source": [
    "## Condicionales"
   ]
  },
  {
   "cell_type": "code",
   "execution_count": null,
   "metadata": {},
   "outputs": [],
   "source": [
    "palabra_ingresada = \"casas\"\n",
    "\n",
    "if (palabra_secreta == palabra_ingresada):\n",
    "    print(\"Ganaste\")\n",
    "    # break"
   ]
  },
  {
   "cell_type": "markdown",
   "metadata": {},
   "source": [
    "## Bucles (for)"
   ]
  },
  {
   "cell_type": "code",
   "execution_count": 26,
   "metadata": {},
   "outputs": [
    {
     "name": "stdout",
     "output_type": "stream",
     "text": [
      "s\n",
      "[a]\n",
      "[l]\n",
      "u\n",
      "d\n"
     ]
    }
   ],
   "source": [
    "palabra_secreta = \"calor\"\n",
    "palabra_ingresada = input(\"Ingresa una palabra\")\n",
    "\n",
    "if (len(palabra_ingresada) == 5):\n",
    "    for index in range(5):\n",
    "        # print(palabra_ingresada[index] + ' ' + palabra_secreta[index])\n",
    "        letras_coinciden = palabra_secreta[index] == palabra_ingresada[index]\n",
    "\n",
    "        if letras_coinciden:\n",
    "            print( '[' + palabra_ingresada[index] + ']')\n",
    "        else:\n",
    "            print(palabra_ingresada[index])\n",
    "else:\n",
    "    print(\"Ingresa una palabra con 5 caracteres\")"
   ]
  },
  {
   "cell_type": "markdown",
   "metadata": {},
   "source": [
    "## Funciones"
   ]
  },
  {
   "cell_type": "code",
   "execution_count": 27,
   "metadata": {},
   "outputs": [
    {
     "name": "stdout",
     "output_type": "stream",
     "text": [
      "calor\n",
      "otrapalabra\n"
     ]
    }
   ],
   "source": [
    "palabra_secreta = \"calor\"\n",
    "\n",
    "def imprimir_palabra(palabra):\n",
    "    print(palabra)\n",
    "\n",
    "imprimir_palabra(palabra_secreta)\n",
    "\n",
    "imprimir_palabra(\"otrapalabra\")\n",
    "\n"
   ]
  },
  {
   "cell_type": "markdown",
   "metadata": {},
   "source": [
    "## Challenge 🤺\n",
    "\n",
    "Crear una función que imprima un saludo"
   ]
  },
  {
   "cell_type": "markdown",
   "metadata": {},
   "source": [
    "## Challenge\n",
    "Hacer una función que calcule el vuelto de la compra, pidiendo que el usuario ingrese dos datos: plata y precio_del_producto\n",
    "\n",
    "Que la función se llame `tu_vuelto_kp`"
   ]
  },
  {
   "cell_type": "markdown",
   "metadata": {},
   "source": [
    "## Solución de Melman 🦒"
   ]
  },
  {
   "cell_type": "code",
   "execution_count": 28,
   "metadata": {},
   "outputs": [
    {
     "name": "stdout",
     "output_type": "stream",
     "text": [
      "Tu vuelto es de 1000 Gs. Kp\n"
     ]
    }
   ],
   "source": [
    "def tu_vuelto_kp():\n",
    "    plata = int(input(\"¿Cuanta plata tenés?\"))\n",
    "    precio_del_producto = int(input(\"¿Cuánto sale este producto?\"))\n",
    "    vuelto = plata - precio_del_producto\n",
    "    if vuelto<0:\n",
    "        print(\"No te alcanza con eso Kp. Volvé otro día\")\n",
    "    elif vuelto == 0:\n",
    "        print(\"Ndeee... Justito. No tenés vuelto kp\")\n",
    "    else :\n",
    "        print(\"Tu vuelto es de \" + str(vuelto) + \" Gs. Kp\")\n",
    "\n",
    "tu_vuelto_kp()"
   ]
  },
  {
   "cell_type": "markdown",
   "metadata": {},
   "source": [
    "## Solución de Felipe 👿"
   ]
  },
  {
   "cell_type": "code",
   "execution_count": 29,
   "metadata": {},
   "outputs": [
    {
     "name": "stdout",
     "output_type": "stream",
     "text": [
      "5000\n"
     ]
    }
   ],
   "source": [
    "def tu_vuelto_kpe() :\n",
    "    precio_del_producto= 10000\n",
    "    plata= input(\"Cuanto dinero tiene\")\n",
    "    vuelto= int(plata)- precio_del_producto\n",
    "    print (vuelto)\n",
    "tu_vuelto_kpe()"
   ]
  },
  {
   "cell_type": "markdown",
   "metadata": {},
   "source": [
    "## Challenge 🤺\n",
    "Solicitar al usuario que ingrese una frase.\n",
    "\n",
    "Imprimir un mensaje cada vez que se encuentre una letra \"o\"."
   ]
  },
  {
   "cell_type": "markdown",
   "metadata": {},
   "source": [
    "## Solución de Fabri ⚛️"
   ]
  },
  {
   "cell_type": "code",
   "execution_count": 31,
   "metadata": {},
   "outputs": [
    {
     "name": "stdout",
     "output_type": "stream",
     "text": [
      "Juro solenmente que mis inteciones no son buenas\n",
      "Juro solenmente que mis inteciones no son buenas\n"
     ]
    }
   ],
   "source": [
    "mensaje_solicitado = input(\"Ingrese una frase: \")\n",
    "for letra in mensaje_solicitado:\n",
    "    if letra == \"o\":\n",
    "        print(\"Juro solenmente que mis inteciones no son buenas\")"
   ]
  },
  {
   "cell_type": "markdown",
   "metadata": {},
   "source": [
    "## Solución de Carlos 🚘"
   ]
  },
  {
   "cell_type": "code",
   "execution_count": 35,
   "metadata": {},
   "outputs": [
    {
     "name": "stdout",
     "output_type": "stream",
     "text": [
      "Hola, en que puedo ayudarte?\n",
      "Letra o\n"
     ]
    }
   ],
   "source": [
    "def frase():\n",
    "\n",
    "    print(\"Hola, en que puedo ayudarte?\")\n",
    "\n",
    "    respuesta = input(\"Favor, ingresa una frase\")\n",
    "\n",
    "    for letra_o in respuesta:\n",
    "        if letra_o == \"o\":\n",
    "            print(\"Letra o\")\n",
    "\n",
    "frase()"
   ]
  },
  {
   "cell_type": "code",
   "execution_count": null,
   "metadata": {},
   "outputs": [],
   "source": []
  }
 ],
 "metadata": {
  "kernelspec": {
   "display_name": "Python 3.10.4 64-bit",
   "language": "python",
   "name": "python3"
  },
  "language_info": {
   "codemirror_mode": {
    "name": "ipython",
    "version": 3
   },
   "file_extension": ".py",
   "mimetype": "text/x-python",
   "name": "python",
   "nbconvert_exporter": "python",
   "pygments_lexer": "ipython3",
   "version": "3.10.4"
  },
  "orig_nbformat": 4,
  "vscode": {
   "interpreter": {
    "hash": "aee8b7b246df8f9039afb4144a1f6fd8d2ca17a180786b69acc140d282b71a49"
   }
  }
 },
 "nbformat": 4,
 "nbformat_minor": 2
}
