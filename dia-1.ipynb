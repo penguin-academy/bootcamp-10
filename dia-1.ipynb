{
 "cells": [
  {
   "cell_type": "markdown",
   "metadata": {},
   "source": [
    "## Variables"
   ]
  },
  {
   "cell_type": "code",
   "execution_count": 11,
   "metadata": {},
   "outputs": [],
   "source": [
    "marca = \"Toyota asdasdasd asda sd\"\n",
    "\n",
    "ruedas = 4"
   ]
  },
  {
   "cell_type": "code",
   "execution_count": null,
   "metadata": {},
   "outputs": [],
   "source": [
    "anio = 2022 # Numero entero -> integer -> int\n",
    "distancia_recorrida = 30.12 # Numeros decimales -> floating numbers -> float\n",
    "marca = \"Toyota\" # Texto -> Strings -> str\n",
    "es_fantastico = True # Boolean -> bool"
   ]
  },
  {
   "cell_type": "markdown",
   "metadata": {},
   "source": [
    "## Operaciones aritmeticas"
   ]
  },
  {
   "cell_type": "code",
   "execution_count": 18,
   "metadata": {},
   "outputs": [
    {
     "name": "stdout",
     "output_type": "stream",
     "text": [
      "75000.0\n",
      "20\n"
     ]
    }
   ],
   "source": [
    "# Suma\n",
    "distancia_recorrida = 7 + 8 + 9 # Km\n",
    "\n",
    "# Resta\n",
    "combustible_gastado = 30 # lts\n",
    "combustible_restante = 100 - combustible_gastado # lts\n",
    "\n",
    "# Multiplicación\n",
    "precio_del_combustible = 10000 # gs\n",
    "costo_del_viaje = combustible_gastado * precio_del_combustible # gs\n",
    "\n",
    "# División\n",
    "cantidad_de_pasajeros = 4\n",
    "vaquita = costo_del_viaje / cantidad_de_pasajeros\n",
    "\n",
    "print(vaquita)\n",
    "\n",
    "# Obs.: Python obedece a la regla matemática de la precedencia de operadores\n",
    "print(2 * 2 + 12 / 2 - 1)"
   ]
  },
  {
   "cell_type": "markdown",
   "metadata": {},
   "source": [
    "## Challenge 🤺\n",
    "\n",
    "Suma: asignar dos números en dos variables diferentes cantidad_de_motos y cantidad_de_autos. Luego sumar ambas variables en cantidad_de_vehículos. Imprimir la última variable.\n",
    "\n",
    "Resta: asignar un valor numérico a la variable vehiculos_vendidos. Luego, asignar la resta entre cantidad_de_vehiculos y vehiculos_vendidos a la variable vehiculos_restantes. Imprimir la última variable."
   ]
  },
  {
   "cell_type": "markdown",
   "metadata": {},
   "source": [
    "## Solución de Ruh 😜"
   ]
  },
  {
   "cell_type": "code",
   "execution_count": 19,
   "metadata": {},
   "outputs": [
    {
     "name": "stdout",
     "output_type": "stream",
     "text": [
      "La cantidad de vehiculos es: 13\n",
      "Los vehiculos restantes son: 4\n"
     ]
    }
   ],
   "source": [
    "cantidad_de_motos = 5\n",
    "cantidad_de_autos = 8\n",
    "\n",
    "cantidad_de_vehiculos = cantidad_de_motos + cantidad_de_autos\n",
    "\n",
    "print(\"La cantidad de vehiculos es:\" , cantidad_de_vehiculos)\n",
    "\n",
    "vehiculos_vendidos = 4\n",
    "vehiculos_restantes = cantidad_de_vehiculos - vehiculos_vendidos\n",
    "\n",
    "print(\"Los vehiculos restantes son:\" , vehiculos_vendidos)"
   ]
  },
  {
   "cell_type": "markdown",
   "metadata": {},
   "source": [
    "## Solución de Nikito V 🍪🐒"
   ]
  },
  {
   "cell_type": "code",
   "execution_count": 20,
   "metadata": {},
   "outputs": [
    {
     "name": "stdout",
     "output_type": "stream",
     "text": [
      "25\n",
      "12\n"
     ]
    }
   ],
   "source": [
    "cantidad_de_motos = 10\n",
    "cantidad_de_autos = 15\n",
    "cantidad_de_vehiculos = cantidad_de_motos + cantidad_de_autos\n",
    "print(cantidad_de_vehiculos) \n",
    "vehiculos_vendidos = 13\n",
    "vehiculos_restantes = cantidad_de_vehiculos - vehiculos_vendidos\n",
    "print(vehiculos_restantes)"
   ]
  },
  {
   "cell_type": "markdown",
   "metadata": {},
   "source": [
    "## Jugar con texto"
   ]
  },
  {
   "cell_type": "code",
   "execution_count": 28,
   "metadata": {},
   "outputs": [
    {
     "name": "stdout",
     "output_type": "stream",
     "text": [
      "FernandoMellone\n"
     ]
    }
   ],
   "source": [
    "marca = 'Toyota'\n",
    "modelo = \"Corolla\" + \" \" + \"asdasd\"\n",
    "\n",
    "xd = \"Moe's\"\n",
    "\n",
    "saludo = 'Todos digan \"hola\"'\n",
    "\n",
    "# print(modelo)"
   ]
  },
  {
   "cell_type": "markdown",
   "metadata": {},
   "source": [
    "## Challenge 🤺\n",
    "Asignar el nombre y el apellido de tu compañera/o a las variables nombre y apellido. Luego, imprimir la siguiente frase, utilizando las variables: \"Hola. Me llamo {nombre_y_apellido}. Mucho gusto.\""
   ]
  },
  {
   "cell_type": "markdown",
   "metadata": {},
   "source": [
    "## Solución de Angeles 🌻"
   ]
  },
  {
   "cell_type": "code",
   "execution_count": 29,
   "metadata": {},
   "outputs": [
    {
     "name": "stdout",
     "output_type": "stream",
     "text": [
      "Hola, me llamo Alejandro Silvero. Mucho gusto.\n"
     ]
    }
   ],
   "source": [
    "nombre = \"Alejandro\"\n",
    "apellido = \"Silvero\"\n",
    "print(\"Hola, me llamo \" + nombre + \" \" + apellido + \". Mucho gusto.\")"
   ]
  },
  {
   "cell_type": "markdown",
   "metadata": {},
   "source": [
    "## Solución de Rodrigo 🐣"
   ]
  },
  {
   "cell_type": "code",
   "execution_count": 31,
   "metadata": {},
   "outputs": [
    {
     "name": "stdout",
     "output_type": "stream",
     "text": [
      "Hola me llamo Felipe Pereira. Mucho gusto.\n"
     ]
    }
   ],
   "source": [
    "nombre = \"Felipe\"\n",
    "apellido = \"Pereira\"\n",
    "nombre_completo = nombre + \" \" + apellido\n",
    "\n",
    "# print (nombre_completo)\n",
    "\n",
    "s1 = \"Hola me llamo\"\n",
    "s2 = nombre_completo\n",
    "s3 = \". Mucho gusto.\"\n",
    "print (s1 + \" \" + s2 + s3)"
   ]
  },
  {
   "cell_type": "markdown",
   "metadata": {},
   "source": [
    "## Obteniendo datos del usuario"
   ]
  },
  {
   "cell_type": "code",
   "execution_count": 45,
   "metadata": {},
   "outputs": [
    {
     "name": "stdout",
     "output_type": "stream",
     "text": [
      "Tengo un auto de marca Kia y tiene 5 ruedas.\n"
     ]
    }
   ],
   "source": [
    "marca = input(\"De qué marca es tu vehículo?\")\n",
    "# print(marca)\n",
    "\n",
    "cantidad_de_ruedas = input(\"Cuántas ruedas tiene tu vehículo?\")\n",
    "# print(cantidad_de_ruedas + '1')\n",
    "\n",
    "cantidad_de_ruedas_con_auxilio = int(cantidad_de_ruedas) + 1\n",
    "\n",
    "print(\"Tengo un auto de marca \" + marca + \" y tiene \" + str(cantidad_de_ruedas_con_auxilio) + \" ruedas.\")"
   ]
  },
  {
   "cell_type": "markdown",
   "metadata": {},
   "source": [
    "## Challenge 🤺\n",
    "Solicitar al usuario ingresar dos números y almacenarlos en dos variables. Luego, imprimir la suma de los dos números."
   ]
  },
  {
   "cell_type": "markdown",
   "metadata": {},
   "source": [
    "## Solución de Andrew 🐈"
   ]
  },
  {
   "cell_type": "code",
   "execution_count": 53,
   "metadata": {},
   "outputs": [
    {
     "name": "stdout",
     "output_type": "stream",
     "text": [
      "La suma de ambos numeros es: 22\n"
     ]
    }
   ],
   "source": [
    "sumando1 = input(\"Por favor introduzca uno de los sumandos\")\n",
    "sumando2 = input(\"Ahora metale el otro wach@\") #ah perdia toda la formalidad\n",
    "suma = int(sumando1) + int(sumando2)\n",
    "print(\"La suma de ambos numeros es: \" + str(suma))"
   ]
  },
  {
   "cell_type": "markdown",
   "metadata": {},
   "source": [
    "## Solución de Jaime 🏉"
   ]
  },
  {
   "cell_type": "code",
   "execution_count": 54,
   "metadata": {},
   "outputs": [
    {
     "name": "stdout",
     "output_type": "stream",
     "text": [
      "En la casa hay 4 seres vivos\n"
     ]
    }
   ],
   "source": [
    "cantidad_de_personas = input(\"Cuantas personas viven en la casa\")\n",
    "\n",
    "cantidad_de_animales = input(\"cantidad de mascotas\")\n",
    "\n",
    "cantidad_de_seres_vivos = int(cantidad_de_personas) + int(cantidad_de_animales)\n",
    "\n",
    "print('En la casa hay ' + str(cantidad_de_seres_vivos) + ' seres vivos' )"
   ]
  },
  {
   "cell_type": "markdown",
   "metadata": {},
   "source": [
    "## Funciones"
   ]
  },
  {
   "cell_type": "code",
   "execution_count": 55,
   "metadata": {},
   "outputs": [
    {
     "name": "stdout",
     "output_type": "stream",
     "text": [
      "Girar la llave\n",
      "Pasar energia de la bateria a la bobina\n",
      "etc...\n",
      "El auto arrancó!\n",
      "AutoError: El auto paró en un semaforo\n",
      "Girar la llave\n",
      "Pasar energia de la bateria a la bobina\n",
      "etc...\n",
      "El auto arrancó!\n",
      "Girar la llave\n",
      "Pasar energia de la bateria a la bobina\n",
      "etc...\n",
      "El auto arrancó!\n"
     ]
    }
   ],
   "source": [
    "def arrancar_auto():\n",
    "    print(\"Girar la llave\")\n",
    "    print(\"Pasar energia de la bateria a la bobina\")\n",
    "    print(\"etc...\")\n",
    "    print(\"El auto arrancó!\")\n",
    "\n",
    "arrancar_auto()\n",
    "\n",
    "# El auto para en un semaforo D:\n",
    "print(\"AutoError: El auto paró en un semaforo\")\n",
    "\n",
    "arrancar_auto() # No quiereee\n",
    "arrancar_auto() # Arrancó! Esoooo!"
   ]
  },
  {
   "cell_type": "markdown",
   "metadata": {},
   "source": [
    "## Challenge 🤺\n",
    "Crear una función de un proceso que se les ocurra que tenga varios pasos. Ejecutar la función 3 veces."
   ]
  },
  {
   "cell_type": "markdown",
   "metadata": {},
   "source": [
    "## Solución de Alejandro 🏴"
   ]
  },
  {
   "cell_type": "code",
   "execution_count": 56,
   "metadata": {},
   "outputs": [
    {
     "name": "stdout",
     "output_type": "stream",
     "text": [
      "Ir a la cama.\n",
      "Cerrar los ojos.\n",
      "Evitar ataques de pánico.\n",
      "Ignorar al pora de la programaxao.\n",
      "Perdeu hermano.\n",
      "Ir a la cama.\n",
      "Cerrar los ojos.\n",
      "Evitar ataques de pánico.\n",
      "Ignorar al pora de la programaxao.\n",
      "Perdeu hermano.\n",
      "Ir a la cama.\n",
      "Cerrar los ojos.\n",
      "Evitar ataques de pánico.\n",
      "Ignorar al pora de la programaxao.\n",
      "Perdeu hermano.\n"
     ]
    }
   ],
   "source": [
    "def dormir():\n",
    "    print(\"Ir a la cama.\")\n",
    "    print(\"Cerrar los ojos.\")\n",
    "    print(\"Evitar ataques de pánico.\")\n",
    "    print(\"Ignorar al pora de la programaxao.\")\n",
    "    print(\"Perdeu hermano.\")\n",
    "\n",
    "dormir()\n",
    "dormir()\n",
    "dormir()"
   ]
  },
  {
   "cell_type": "markdown",
   "metadata": {},
   "source": [
    "## Solución de Melman 🦒"
   ]
  },
  {
   "cell_type": "code",
   "execution_count": 57,
   "metadata": {},
   "outputs": [
    {
     "name": "stdout",
     "output_type": "stream",
     "text": [
      "sumar dos numeros. Intento 1\n",
      "La suma es 3\n",
      "sumar dos numeros. Intento 2\n",
      "La suma es 30\n",
      "sumar dos numeros. Intento 3\n",
      "La suma es 300\n"
     ]
    }
   ],
   "source": [
    "def funcion_sumar() :\n",
    "    numero1 = input(\"Ingrese un numero\")\n",
    "    numero2 = input(\"Ingrese otro numero\")\n",
    "\n",
    "    suma = int(numero1) + int(numero2)\n",
    "\n",
    "    print(\"La suma es\" + \" \" + str(suma))\n",
    "\n",
    "print(\"sumar dos numeros. Intento 1\")\n",
    "funcion_sumar()\n",
    "print(\"sumar dos numeros. Intento 2\")\n",
    "funcion_sumar()\n",
    "print(\"sumar dos numeros. Intento 3\")\n",
    "funcion_sumar()"
   ]
  },
  {
   "cell_type": "markdown",
   "metadata": {},
   "source": [
    "## Parámetros y argumentos"
   ]
  },
  {
   "cell_type": "code",
   "execution_count": 66,
   "metadata": {},
   "outputs": [
    {
     "name": "stdout",
     "output_type": "stream",
     "text": [
      "Un auto Toyota Corolla se ha vendido\n",
      "Un auto Toyota Corolla salió de la tienda\n",
      "Un auto Kia Picanto se ha vendido\n",
      "Un auto Kia Picanto salió de la tienda\n",
      "Un auto Renault Clio se ha vendido\n",
      "Un auto Renault Clio salió de la tienda\n"
     ]
    }
   ],
   "source": [
    "# def vender_auto():\n",
    "#     print(\"Un auto Toyota se ha vendido\")\n",
    "\n",
    "# def vender_auto(marca):\n",
    "#     print(\"Un auto \" + marca + \" se ha vendido\")\n",
    "#     print(\"Un auto \" + marca + \" salió de la tienda\")\n",
    "\n",
    "# vender_auto(\"Toyota\")\n",
    "# vender_auto(\"Kia\")\n",
    "# vender_auto(\"Renault\")\n",
    "\n",
    "\n",
    "def vender_auto(marca, modelo):\n",
    "    print(\"Un auto \" + marca + \" \" + modelo + \" se ha vendido\")\n",
    "    print(\"Un auto \" + marca + \" \" + modelo + \" salió de la tienda\")\n",
    "\n",
    "vender_auto(\"Toyota\", \"Corolla\")\n",
    "vender_auto(\"Kia\", \"Picanto\")\n",
    "vender_auto(\"Renault\", \"Clio\")"
   ]
  },
  {
   "cell_type": "markdown",
   "metadata": {},
   "source": [
    "## Challenge 🤺\n",
    "\n",
    "Dada la función que acabamos de crear, de la venta de autos, solicitar más información al usuario sobre el vehículo que quiere comprar. Integrar la información a los mensajes que se muestran en la función."
   ]
  },
  {
   "cell_type": "markdown",
   "metadata": {},
   "source": [
    "## Solución de Gabriel 👽"
   ]
  },
  {
   "cell_type": "code",
   "execution_count": 67,
   "metadata": {},
   "outputs": [
    {
     "name": "stdout",
     "output_type": "stream",
     "text": [
      "Un auto kia cerato 1995 rojo se ha vendido\n",
      "Un auto kia cerato 1995 rojo salió de la tienda\n"
     ]
    }
   ],
   "source": [
    "def vender_auto(marca, modelo, anho, color):\n",
    "    print(\"Un auto \" + marca + \" \" + modelo + \" \" + anho + \" \" + color + \" \" + \"se ha vendido\")\n",
    "    print(\"Un auto \" + marca + \" \" + modelo + \" \" + anho + \" \" + color + \" \" + \"salió de la tienda\")\n",
    "\n",
    "vender_auto(\"kia\", \"cerato\", \"1995\", \"rojo\")"
   ]
  },
  {
   "cell_type": "markdown",
   "metadata": {},
   "source": [
    "## Solución de 🚗los 🌞"
   ]
  },
  {
   "cell_type": "code",
   "execution_count": 68,
   "metadata": {},
   "outputs": [
    {
     "name": "stdout",
     "output_type": "stream",
     "text": [
      "Un auto Toyota Supra 2003 azul Japones se ha vendido\n",
      "Un auto Toyota Supra 2003 azul Japones salió de la tienda\n",
      "Un auto Kia Optima 2008 negro Koreano se ha vendido\n",
      "Un auto Kia Optima 2008 negro Koreano salió de la tienda\n",
      "Un auto BMW M3 2007 gris Aleman se ha vendido\n",
      "Un auto BMW M3 2007 gris Aleman salió de la tienda\n"
     ]
    }
   ],
   "source": [
    "def vender_auto(marca, modelo, anho, color, origen):\n",
    "    print(\"Un auto \" + marca + \" \" + modelo + \" \" + anho + \" \" + color + \" \" + origen +\" se ha vendido\")\n",
    "    print(\"Un auto \" + marca + \" \" + modelo + \" \" + anho + \" \" + color + \" \" + origen +\" salió de la tienda\")\n",
    "\n",
    "vender_auto(\"Toyota\", \"Supra\", \"2003\", \"azul\", \"Japones\")\n",
    "vender_auto(\"Kia\", \"Optima\", \"2008\", \"negro\", \"Koreano\")\n",
    "vender_auto(\"BMW\", \"M3\", \"2007\", \"gris\", \"Aleman\")"
   ]
  },
  {
   "cell_type": "markdown",
   "metadata": {},
   "source": [
    "## Funciones personalizadas vs funciones built-in"
   ]
  },
  {
   "cell_type": "code",
   "execution_count": 78,
   "metadata": {},
   "outputs": [
    {
     "name": "stdout",
     "output_type": "stream",
     "text": [
      "El auto avanzó 110\n",
      "El auto avanzó 120\n",
      "120\n"
     ]
    }
   ],
   "source": [
    "distancia_recorrida = 100 # Km\n",
    "\n",
    "def avanzar():\n",
    "    global distancia_recorrida\n",
    "    distancia_recorrida = distancia_recorrida + 10\n",
    "    print(\"El auto avanzó \" + str(distancia_recorrida))\n",
    "\n",
    "avanzar()\n",
    "avanzar()\n",
    "\n",
    "print(distancia_recorrida)"
   ]
  },
  {
   "cell_type": "code",
   "execution_count": 82,
   "metadata": {},
   "outputs": [
    {
     "name": "stdout",
     "output_type": "stream",
     "text": [
      "se aplicó un descuento del 30% 70000.0\n",
      "se aplicó un descuento del 20% 70000.0\n"
     ]
    }
   ],
   "source": [
    "carrito = 100000\n",
    "\n",
    "def aplicar_descuento_30():\n",
    "    global carrito\n",
    "    carrito = carrito - carrito * 0.3\n",
    "\n",
    "def aplicar_descuento_20():\n",
    "    global carrito\n",
    "    carrito = carrito - carrito * 0.2\n",
    "\n",
    "aplicar_descuento_30()\n",
    "\n",
    "print(\"se aplicó un descuento del 30% \" + str(carrito))\n",
    "\n",
    "aplicar_descuento_20()\n",
    "\n",
    "print(\"se aplicó un descuento del 20% \" + str(carrito))"
   ]
  }
 ],
 "metadata": {
  "kernelspec": {
   "display_name": "Python 3.10.4 64-bit",
   "language": "python",
   "name": "python3"
  },
  "language_info": {
   "codemirror_mode": {
    "name": "ipython",
    "version": 3
   },
   "file_extension": ".py",
   "mimetype": "text/x-python",
   "name": "python",
   "nbconvert_exporter": "python",
   "pygments_lexer": "ipython3",
   "version": "3.10.4"
  },
  "orig_nbformat": 4,
  "vscode": {
   "interpreter": {
    "hash": "aee8b7b246df8f9039afb4144a1f6fd8d2ca17a180786b69acc140d282b71a49"
   }
  }
 },
 "nbformat": 4,
 "nbformat_minor": 2
}
